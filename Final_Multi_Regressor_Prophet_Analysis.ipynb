{
 "cells": [
  {
   "cell_type": "markdown",
   "id": "9ffd388d",
   "metadata": {},
   "source": [
    "\n",
    "## Prophet Modeling with Multiple Regressors\n",
    "\n",
    "This analysis incorporates additional regressors (e.g., precipitation and rolling temperature averages) to improve forecast accuracy and capture complex relationships in the climate data.\n"
   ]
  },
  {
   "cell_type": "code",
   "execution_count": 1,
   "id": "8c3aec1e",
   "metadata": {},
   "outputs": [
    {
     "ename": "NameError",
     "evalue": "name 'data' is not defined",
     "output_type": "error",
     "traceback": [
      "\u001b[0;31m---------------------------------------------------------------------------\u001b[0m",
      "\u001b[0;31mNameError\u001b[0m                                 Traceback (most recent call last)",
      "Cell \u001b[0;32mIn[1], line 2\u001b[0m\n\u001b[1;32m      1\u001b[0m \u001b[38;5;66;03m# Prepare data for Prophet with multiple regressors\u001b[39;00m\n\u001b[0;32m----> 2\u001b[0m temperature_data \u001b[38;5;241m=\u001b[39m \u001b[43mdata\u001b[49m[[\u001b[38;5;124m'\u001b[39m\u001b[38;5;124mdate\u001b[39m\u001b[38;5;124m'\u001b[39m, \u001b[38;5;124m'\u001b[39m\u001b[38;5;124mavg_temperature_v\u001b[39m\u001b[38;5;124m'\u001b[39m, \u001b[38;5;124m'\u001b[39m\u001b[38;5;124mprecip_rolling_avg\u001b[39m\u001b[38;5;124m'\u001b[39m, \u001b[38;5;124m'\u001b[39m\u001b[38;5;124mtemp_rolling_avg\u001b[39m\u001b[38;5;124m'\u001b[39m]]\u001b[38;5;241m.\u001b[39mrename(columns\u001b[38;5;241m=\u001b[39m{\n\u001b[1;32m      3\u001b[0m     \u001b[38;5;124m'\u001b[39m\u001b[38;5;124mdate\u001b[39m\u001b[38;5;124m'\u001b[39m: \u001b[38;5;124m'\u001b[39m\u001b[38;5;124mds\u001b[39m\u001b[38;5;124m'\u001b[39m,\n\u001b[1;32m      4\u001b[0m     \u001b[38;5;124m'\u001b[39m\u001b[38;5;124mavg_temperature_v\u001b[39m\u001b[38;5;124m'\u001b[39m: \u001b[38;5;124m'\u001b[39m\u001b[38;5;124my\u001b[39m\u001b[38;5;124m'\u001b[39m,\n\u001b[1;32m      5\u001b[0m     \u001b[38;5;124m'\u001b[39m\u001b[38;5;124mprecip_rolling_avg\u001b[39m\u001b[38;5;124m'\u001b[39m: \u001b[38;5;124m'\u001b[39m\u001b[38;5;124mprecip\u001b[39m\u001b[38;5;124m'\u001b[39m,\n\u001b[1;32m      6\u001b[0m     \u001b[38;5;124m'\u001b[39m\u001b[38;5;124mtemp_rolling_avg\u001b[39m\u001b[38;5;124m'\u001b[39m: \u001b[38;5;124m'\u001b[39m\u001b[38;5;124mtemp_rolling\u001b[39m\u001b[38;5;124m'\u001b[39m\n\u001b[1;32m      7\u001b[0m })\n\u001b[1;32m      9\u001b[0m \u001b[38;5;66;03m# Ensure no NaN values in the regressors\u001b[39;00m\n\u001b[1;32m     10\u001b[0m temperature_data[\u001b[38;5;124m'\u001b[39m\u001b[38;5;124mprecip\u001b[39m\u001b[38;5;124m'\u001b[39m] \u001b[38;5;241m=\u001b[39m temperature_data[\u001b[38;5;124m'\u001b[39m\u001b[38;5;124mprecip\u001b[39m\u001b[38;5;124m'\u001b[39m]\u001b[38;5;241m.\u001b[39mfillna(method\u001b[38;5;241m=\u001b[39m\u001b[38;5;124m'\u001b[39m\u001b[38;5;124mffill\u001b[39m\u001b[38;5;124m'\u001b[39m)\u001b[38;5;241m.\u001b[39mfillna(method\u001b[38;5;241m=\u001b[39m\u001b[38;5;124m'\u001b[39m\u001b[38;5;124mbfill\u001b[39m\u001b[38;5;124m'\u001b[39m)\n",
      "\u001b[0;31mNameError\u001b[0m: name 'data' is not defined"
     ]
    }
   ],
   "source": [
    "\n",
    "# Prepare data for Prophet with multiple regressors\n",
    "temperature_data = data[['date', 'avg_temperature_v', 'precip_rolling_avg', 'temp_rolling_avg']].rename(columns={\n",
    "    'date': 'ds',\n",
    "    'avg_temperature_v': 'y',\n",
    "    'precip_rolling_avg': 'precip',\n",
    "    'temp_rolling_avg': 'temp_rolling'\n",
    "})\n",
    "\n",
    "# Ensure no NaN values in the regressors\n",
    "temperature_data['precip'] = temperature_data['precip'].fillna(method='ffill').fillna(method='bfill')\n",
    "temperature_data['temp_rolling'] = temperature_data['temp_rolling'].fillna(method='ffill').fillna(method='bfill')\n",
    "\n",
    "# Initialize and fit Prophet model with multiple regressors\n",
    "multi_regressor_model = Prophet(yearly_seasonality=True)\n",
    "multi_regressor_model.add_regressor('precip')\n",
    "multi_regressor_model.add_regressor('temp_rolling')\n",
    "\n",
    "# Fit the model\n",
    "multi_regressor_model.fit(temperature_data)\n",
    "\n",
    "# Forecast with future dataframe including regressors\n",
    "future = multi_regressor_model.make_future_dataframe(periods=60, freq='M')\n",
    "future['precip'] = temperature_data['precip'].iloc[-1]  # Use latest known value for precipitation\n",
    "future['temp_rolling'] = temperature_data['temp_rolling'].iloc[-1]  # Use latest known value for rolling temperature\n",
    "multi_forecast = multi_regressor_model.predict(future)\n",
    "\n",
    "# Plot forecast\n",
    "fig1 = multi_regressor_model.plot(multi_forecast)\n",
    "plt.title('Forecast with Multiple Regressors (Precipitation and Rolling Temperature)')\n",
    "plt.show()\n",
    "\n",
    "# Plot components\n",
    "fig2 = multi_regressor_model.plot_components(multi_forecast)\n",
    "plt.show()\n"
   ]
  },
  {
   "cell_type": "markdown",
   "id": "d79d5f2b",
   "metadata": {},
   "source": [
    "\n",
    "## Advanced Analysis with Multiple Regressors\n",
    "\n",
    "Building on the multiple regressor model, this section includes changepoint analysis, scenario exploration, residual diagnostics, and confidence interval evaluation.\n"
   ]
  },
  {
   "cell_type": "code",
   "execution_count": null,
   "id": "76fd5761",
   "metadata": {},
   "outputs": [],
   "source": [
    "\n",
    "# Changepoint Analysis\n",
    "changepoints = multi_regressor_model.changepoints\n",
    "changepoint_effects = multi_forecast.loc[multi_forecast['ds'].isin(changepoints), ['ds', 'trend']]\n",
    "\n",
    "# Visualize changepoint effects\n",
    "plt.figure(figsize=(12, 6))\n",
    "plt.plot(multi_forecast['ds'], multi_forecast['trend'], label='Trend', color='blue')\n",
    "plt.scatter(changepoint_effects['ds'], changepoint_effects['trend'], color='red', label='Changepoints')\n",
    "plt.title('Changepoint Effects on Trend (Multiple Regressors)')\n",
    "plt.xlabel('Date')\n",
    "plt.ylabel('Trend')\n",
    "plt.legend()\n",
    "plt.show()\n"
   ]
  },
  {
   "cell_type": "code",
   "execution_count": null,
   "id": "651db03b",
   "metadata": {},
   "outputs": [],
   "source": [
    "\n",
    "# Scenario Analysis: Modify regressors\n",
    "scenario_future = future.copy()\n",
    "scenario_future['precip'] += 10  # Increase precipitation trend by 10 units\n",
    "\n",
    "# Forecast under the scenario\n",
    "scenario_forecast = multi_regressor_model.predict(scenario_future)\n",
    "\n",
    "# Plot scenario vs. original forecast\n",
    "plt.figure(figsize=(12, 6))\n",
    "plt.plot(multi_forecast['ds'], multi_forecast['yhat'], label='Original Forecast', color='blue')\n",
    "plt.plot(scenario_forecast['ds'], scenario_forecast['yhat'], label='Scenario: Increased Precipitation', color='green')\n",
    "plt.title('Scenario Analysis: Increased Precipitation Impact on Temperature')\n",
    "plt.xlabel('Date')\n",
    "plt.ylabel('Temperature')\n",
    "plt.legend()\n",
    "plt.show()\n"
   ]
  },
  {
   "cell_type": "code",
   "execution_count": null,
   "id": "33e32eb7",
   "metadata": {},
   "outputs": [],
   "source": [
    "\n",
    "# Residual Analysis for Multiple Regressors\n",
    "multi_forecast['residuals'] = multi_forecast['yhat'][:len(temperature_data)] - temperature_data['y']\n",
    "\n",
    "# Plot residuals\n",
    "plt.figure(figsize=(12, 6))\n",
    "plt.plot(temperature_data['ds'], multi_forecast['residuals'][:len(temperature_data)], label='Residuals')\n",
    "plt.axhline(y=0, color='red', linestyle='--')\n",
    "plt.title('Residuals from Multiple Regressor Prophet Model')\n",
    "plt.xlabel('Date')\n",
    "plt.ylabel('Residuals')\n",
    "plt.legend()\n",
    "plt.show()\n",
    "\n",
    "# Residual diagnostics\n",
    "residuals = multi_forecast['residuals'].dropna()\n",
    "stat, p_value = normaltest(residuals)\n",
    "dw_stat = durbin_watson(residuals)\n",
    "print(f\"Normality Test: p-value = {p_value} (p > 0.05 indicates normality)\")\n",
    "print(f\"Durbin-Watson Statistic: {dw_stat} (close to 2 indicates no autocorrelation)\")\n"
   ]
  },
  {
   "cell_type": "code",
   "execution_count": null,
   "id": "94dfbea4",
   "metadata": {},
   "outputs": [],
   "source": [
    "\n",
    "# Confidence Interval Analysis\n",
    "plt.figure(figsize=(12, 6))\n",
    "plt.fill_between(multi_forecast['ds'], multi_forecast['yhat_lower'], multi_forecast['yhat_upper'], color='skyblue', alpha=0.4, label='Confidence Interval')\n",
    "plt.plot(multi_forecast['ds'], multi_forecast['yhat'], color='blue', label='Forecast')\n",
    "plt.plot(temperature_data['ds'], temperature_data['y'], color='black', label='Observed')\n",
    "plt.title('Forecast with Confidence Intervals (Multiple Regressors)')\n",
    "plt.xlabel('Date')\n",
    "plt.ylabel('Temperature')\n",
    "plt.legend()\n",
    "plt.show()\n"
   ]
  }
 ],
 "metadata": {
  "kernelspec": {
   "display_name": "Python 3 (ipykernel)",
   "language": "python",
   "name": "python3"
  },
  "language_info": {
   "codemirror_mode": {
    "name": "ipython",
    "version": 3
   },
   "file_extension": ".py",
   "mimetype": "text/x-python",
   "name": "python",
   "nbconvert_exporter": "python",
   "pygments_lexer": "ipython3",
   "version": "3.11.7"
  }
 },
 "nbformat": 4,
 "nbformat_minor": 5
}
