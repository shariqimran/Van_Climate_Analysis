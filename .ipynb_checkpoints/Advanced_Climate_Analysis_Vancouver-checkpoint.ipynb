{
 "cells": [
  {
   "cell_type": "markdown",
   "id": "61f1342d",
   "metadata": {},
   "source": [
    "\n",
    "# Advanced Vancouver Climate Analysis\n",
    "\n",
    "This notebook enhances the analysis of Vancouver's climate data, focusing on comprehensive exploratory data analysis, feature engineering, and advanced forecasting using Prophet. It provides a detailed breakdown of trends, seasonal patterns, and predictive insights.\n",
    "\n",
    "---\n",
    "\n",
    "### Updated Roadmap\n",
    "1. **Phase 1**: Data Loading and Feature Engineering\n",
    "2. **Phase 2**: Exploratory Data Analysis (EDA)\n",
    "3. **Phase 3**: Stationarity Testing and Transformation\n",
    "4. **Phase 4**: Advanced Prophet Modeling\n",
    "5. **Phase 5**: Multi-Variable Analysis\n",
    "6. **Phase 6**: Visualizations and Interpretation\n",
    "7. **Phase 7**: Concluding Insights\n",
    "\n",
    "---\n"
   ]
  },
  {
   "cell_type": "markdown",
   "id": "228bec8a",
   "metadata": {},
   "source": [
    "## Phase 1: Data Loading and Feature Engineering"
   ]
  },
  {
   "cell_type": "code",
   "execution_count": null,
   "id": "da344d4e",
   "metadata": {},
   "outputs": [],
   "source": [
    "\n",
    "# Load dataset\n",
    "data_file_path = '/Users/shariq/Desktop/Project/data/weatherstats_vancouver_normal_monthly.csv'\n",
    "data = pd.read_csv(data_file_path)\n",
    "\n",
    "# Convert 'date' to datetime and set as index\n",
    "data['date'] = pd.to_datetime(data['date'], errors='coerce')\n",
    "\n",
    "# Feature engineering: Add rolling averages and differences\n",
    "data['avg_temp_rolling'] = data['avg_temperature_v'].rolling(window=12).mean()\n",
    "data['precip_rolling'] = data['precipitation_v'].rolling(window=12).mean()\n",
    "data['temp_diff'] = data['avg_temperature_v'].diff()\n",
    "\n",
    "# Add month and year columns for seasonal analysis\n",
    "data['month'] = data['date'].dt.month\n",
    "data['year'] = data['date'].dt.year\n",
    "\n",
    "# Clean and finalize data for analysis\n",
    "data.dropna(subset=['avg_temperature_v', 'precipitation_v'], inplace=True)\n",
    "cleaned_data = data[['date', 'avg_temperature_v', 'precipitation_v', 'avg_temp_rolling', 'precip_rolling', 'temp_diff']].set_index('date')\n"
   ]
  },
  {
   "cell_type": "markdown",
   "id": "46c02fbf",
   "metadata": {},
   "source": [
    "## Phase 4: Advanced Prophet Modeling"
   ]
  },
  {
   "cell_type": "code",
   "execution_count": null,
   "id": "5a005f6b",
   "metadata": {},
   "outputs": [],
   "source": [
    "\n",
    "# Prepare data for Prophet\n",
    "temperature_data = cleaned_data.reset_index()[['date', 'avg_temperature_v']].rename(columns={'date': 'ds', 'avg_temperature_v': 'y'})\n",
    "\n",
    "# Initialize Prophet with additional settings\n",
    "temp_model = Prophet(yearly_seasonality=True, changepoint_prior_scale=0.1)\n",
    "temp_model.add_country_holidays(country_name='CA')  # Canadian holidays\n",
    "\n",
    "# Fit the model\n",
    "temp_model.fit(temperature_data)\n",
    "\n",
    "# Make future dataframe and predict\n",
    "temp_future = temp_model.make_future_dataframe(periods=60, freq='M')\n",
    "temp_forecast = temp_model.predict(temp_future)\n",
    "\n",
    "# Plot forecast\n",
    "fig1 = temp_model.plot(temp_forecast)\n",
    "plt.title('Advanced Temperature Forecast with Prophet')\n",
    "plt.show()\n",
    "\n",
    "# Analyze components: Trend, Seasonality, and Holidays\n",
    "fig2 = temp_model.plot_components(temp_forecast)\n",
    "plt.show()\n",
    "\n",
    "# Detect and visualize changepoints\n",
    "from prophet.plot import add_changepoints_to_plot\n",
    "fig3 = add_changepoints_to_plot(fig1.gca(), temp_model, temp_forecast)\n",
    "plt.title('Changepoints in Temperature Trends')\n",
    "plt.show()\n"
   ]
  },
  {
   "cell_type": "markdown",
   "id": "f7e75ff9",
   "metadata": {},
   "source": [
    "## Phase 5: Multi-Variable Analysis with Regressors"
   ]
  },
  {
   "cell_type": "code",
   "execution_count": null,
   "id": "53bf9de1",
   "metadata": {},
   "outputs": [],
   "source": [
    "\n",
    "# Add rolling averages and other predictors as regressors\n",
    "temperature_data['rolling_precip'] = cleaned_data['precip_rolling'].values\n",
    "\n",
    "# Initialize Prophet with additional regressors\n",
    "multi_var_model = Prophet()\n",
    "multi_var_model.add_regressor('rolling_precip')\n",
    "\n",
    "# Fit the model\n",
    "multi_var_model.fit(temperature_data)\n",
    "\n",
    "# Forecast with regressors\n",
    "multi_var_future = multi_var_model.make_future_dataframe(periods=60, freq='M')\n",
    "multi_var_future['rolling_precip'] = cleaned_data['precip_rolling'].iloc[-60:].values  # Use latest data for predictions\n",
    "multi_var_forecast = multi_var_model.predict(multi_var_future)\n",
    "\n",
    "# Plot forecast\n",
    "multi_var_model.plot(multi_var_forecast)\n",
    "plt.title('Multi-Variable Temperature Forecast with Precipitation Regressor')\n",
    "plt.show()\n"
   ]
  }
 ],
 "metadata": {},
 "nbformat": 4,
 "nbformat_minor": 5
}
