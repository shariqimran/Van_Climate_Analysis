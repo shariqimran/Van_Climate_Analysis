{
 "cells": [
  {
   "cell_type": "markdown",
   "id": "4a73bd42",
   "metadata": {},
   "source": [
    "\n",
    "# Climate Analysis: Vancouver\n",
    "This notebook analyzes historical climate data for Vancouver, focusing on temperature and precipitation trends, seasonal patterns, and forecasting.\n",
    "\n",
    "## Objectives\n",
    "1. Clean and preprocess the data for analysis.\n",
    "2. Explore trends and seasonal patterns in temperature and precipitation.\n",
    "3. Perform time-series forecasting using ARIMA and Prophet models.\n",
    "4. Investigate relationships between additional variables, if available.\n",
    "5. Generate visualizations for effective interpretation and communication.\n",
    "\n",
    "---\n"
   ]
  },
  {
   "cell_type": "markdown",
   "id": "015227a7",
   "metadata": {},
   "source": [
    "## Data Cleaning and Preprocessing"
   ]
  },
  {
   "cell_type": "code",
   "execution_count": null,
   "id": "254d0bca",
   "metadata": {},
   "outputs": [],
   "source": [
    "\n",
    "# Convert the 'date' column to datetime format\n",
    "data['date'] = pd.to_datetime(data['date'], errors='coerce')\n",
    "\n",
    "# Convert all relevant columns to numeric to handle any non-numeric values\n",
    "for col in data.columns:\n",
    "    if col.startswith(('min_', 'max_', 'temperature', 'humidity', 'precipitation', 'wind_speed')):\n",
    "        data[col] = pd.to_numeric(data[col], errors='coerce')\n",
    "\n",
    "# Calculate averages for min/max pairs\n",
    "columns_to_drop = []\n",
    "for col in data.columns:\n",
    "    if col.startswith('min_') and col.replace('min_', 'max_') in data.columns:\n",
    "        base_name = col.replace('min_', '')\n",
    "        data[f'avg_{base_name}'] = (data[col] + data[f'max_{base_name}']) / 2\n",
    "        columns_to_drop.extend([col, f'max_{base_name}'])\n",
    "\n",
    "# Drop temperature min/max columns and irrelevant columns\n",
    "columns_to_drop.extend([col for col in data.columns if col.endswith('_c')])\n",
    "data.drop(columns=columns_to_drop, inplace=True)\n",
    "\n",
    "# Drop rows with missing values in key columns\n",
    "cleaned_data = data.dropna(subset=['date', 'avg_temperature_v', 'precipitation_v']).set_index('date')\n",
    "\n",
    "# Check cleaned data\n",
    "cleaned_data.info()\n",
    "cleaned_data.describe()\n"
   ]
  },
  {
   "cell_type": "markdown",
   "id": "b18ddc5d",
   "metadata": {},
   "source": [
    "## Exploratory Data Analysis (EDA)"
   ]
  },
  {
   "cell_type": "code",
   "execution_count": null,
   "id": "6c08d19a",
   "metadata": {},
   "outputs": [],
   "source": [
    "\n",
    "# Visualize trends in temperature and precipitation\n",
    "plt.figure(figsize=(14, 6))\n",
    "plt.plot(cleaned_data['avg_temperature_v'], label='Average Temperature', alpha=0.8)\n",
    "plt.plot(cleaned_data['precipitation_v'], label='Precipitation', alpha=0.8)\n",
    "plt.title('Temperature and Precipitation Trends in Vancouver')\n",
    "plt.legend()\n",
    "plt.show()\n",
    "\n",
    "# Seasonal decomposition of temperature\n",
    "from statsmodels.tsa.seasonal import seasonal_decompose\n",
    "\n",
    "decomposition = seasonal_decompose(cleaned_data['avg_temperature_v'], model='additive', period=12)\n",
    "decomposition.plot()\n",
    "plt.show()\n",
    "\n",
    "# Correlation heatmap\n",
    "corr = cleaned_data.corr()\n",
    "sns.heatmap(corr, annot=True, cmap='coolwarm')\n",
    "plt.title('Correlation Heatmap')\n",
    "plt.show()\n"
   ]
  },
  {
   "cell_type": "markdown",
   "id": "839a1b1a",
   "metadata": {},
   "source": [
    "## Time-Series Modeling and Forecasting"
   ]
  },
  {
   "cell_type": "code",
   "execution_count": null,
   "id": "a54f3b50",
   "metadata": {},
   "outputs": [],
   "source": [
    "\n",
    "# ARIMA model for temperature forecasting\n",
    "from statsmodels.tsa.arima.model import ARIMA\n",
    "\n",
    "temperature_model = ARIMA(cleaned_data['avg_temperature_v'], order=(1, 1, 1))\n",
    "temperature_results = temperature_model.fit()\n",
    "\n",
    "# Forecast future values\n",
    "forecast_steps = 12  # Forecast for one year\n",
    "forecast = temperature_results.get_forecast(steps=forecast_steps)\n",
    "forecast_ci = forecast.conf_int()\n",
    "\n",
    "# Plot forecast\n",
    "plt.figure(figsize=(14, 6))\n",
    "plt.plot(cleaned_data['avg_temperature_v'], label='Observed')\n",
    "plt.plot(forecast.predicted_mean, label='Forecast', color='red')\n",
    "plt.fill_between(forecast_ci.index, forecast_ci.iloc[:, 0], forecast_ci.iloc[:, 1], color='pink', alpha=0.3)\n",
    "plt.title('Temperature Forecast with ARIMA')\n",
    "plt.legend()\n",
    "plt.show()\n"
   ]
  },
  {
   "cell_type": "code",
   "execution_count": null,
   "id": "53d9bdab",
   "metadata": {},
   "outputs": [],
   "source": [
    "\n",
    "# Prophet model for precipitation forecasting\n",
    "prophet_data = cleaned_data.reset_index()[['date', 'precipitation_v']]\n",
    "prophet_data.columns = ['ds', 'y']\n",
    "\n",
    "model = Prophet()\n",
    "model.fit(prophet_data)\n",
    "\n",
    "future = model.make_future_dataframe(periods=12, freq='M')\n",
    "forecast = model.predict(future)\n",
    "\n",
    "# Plot forecast\n",
    "model.plot(forecast)\n",
    "plt.title('Precipitation Forecast with Prophet')\n",
    "plt.show()\n"
   ]
  }
 ],
 "metadata": {},
 "nbformat": 4,
 "nbformat_minor": 5
}
